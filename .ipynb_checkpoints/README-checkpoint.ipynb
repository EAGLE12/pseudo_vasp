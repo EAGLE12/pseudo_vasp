{
 "cells": [
  {
   "cell_type": "markdown",
   "metadata": {
    "toc": "true"
   },
   "source": [
    "# Table of Contents\n",
    " <p><div class=\"lev1 toc-item\"><a href=\"#title:-粒界エネルギーの最安定探索の自動化\" data-toc-modified-id=\"title:-粒界エネルギーの最安定探索の自動化-1\"><span class=\"toc-item-num\">1&nbsp;&nbsp;</span>title: 粒界エネルギーの最安定探索の自動化</a></div><div class=\"lev1 toc-item\"><a href=\"#はじめに\" data-toc-modified-id=\"はじめに-2\"><span class=\"toc-item-num\">2&nbsp;&nbsp;</span>はじめに</a></div><div class=\"lev2 toc-item\"><a href=\"#背景\" data-toc-modified-id=\"背景-21\"><span class=\"toc-item-num\">2.1&nbsp;&nbsp;</span>背景</a></div><div class=\"lev2 toc-item\"><a href=\"#目的\" data-toc-modified-id=\"目的-22\"><span class=\"toc-item-num\">2.2&nbsp;&nbsp;</span>目的</a></div><div class=\"lev1 toc-item\"><a href=\"#構造最適化\" data-toc-modified-id=\"構造最適化-3\"><span class=\"toc-item-num\">3&nbsp;&nbsp;</span>構造最適化</a></div><div class=\"lev1 toc-item\"><a href=\"#vasp計算の結果\" data-toc-modified-id=\"vasp計算の結果-4\"><span class=\"toc-item-num\">4&nbsp;&nbsp;</span>vasp計算の結果</a></div><div class=\"lev1 toc-item\"><a href=\"#IMRAD\" data-toc-modified-id=\"IMRAD-5\"><span class=\"toc-item-num\">5&nbsp;&nbsp;</span>IMRAD</a></div>"
   ]
  },
  {
   "cell_type": "markdown",
   "metadata": {},
   "source": [
    "#  title: 粒界エネルギーの最安定探索の自動化"
   ]
  },
  {
   "cell_type": "markdown",
   "metadata": {},
   "source": [
    "# はじめに"
   ]
  },
  {
   "cell_type": "markdown",
   "metadata": {},
   "source": [
    "## 背景"
   ]
  },
  {
   "cell_type": "markdown",
   "metadata": {
    "collapsed": true
   },
   "source": [
    "西谷研では最安定であるような粒界エネルギーを求める計算を行っている．\n",
    "計算はPCによって自動で行われるが，その過程においていくつかの作業が手動で行われている，\n",
    "\n",
    "1.原子モデル作成\n",
    "   1. 近い原子の削除\n",
    "1. 計算サーバへのファイル移送\n",
    "1. 計算設定ファイルの数値変換\n",
    "1. 構造最適化の手動設定\n",
    "1. 結果の解析\n",
    "\n",
    "これらは使い慣れた研究者に取っては間違った場合もすぐに気づくことができ\n",
    "計算時間が短く済んだり，間違いのケアも迅速に出来るという点では良い．\n",
    "初心者がここを手動でやると途中で何をしているのか分からなくなり，効率が悪くなってしまう\n",
    "\n",
    "## 目的\n",
    "\n",
    "これらの手順を手動から自動で行ったり，間違い検出もしてくれるようなシステムを構築し，\n",
    "初心者でも簡単に安定な粒界エネルギーを求められるようにすること\n",
    "が本研究の目的である．"
   ]
  },
  {
   "cell_type": "markdown",
   "metadata": {},
   "source": [
    "# 構造最適化"
   ]
  },
  {
   "cell_type": "markdown",
   "metadata": {},
   "source": [
    "図はAlの3315で作成したモデルのtop viewである．これを緩和させて最安定エネルギーを求める．\n",
    "このためには内部の原子配置と，外部のセル形状の両方を緩和させる必要がある．\n",
    "今後これらをそれぞれ内部緩和，外部緩和と呼んでいく．\n",
    "\n",
    "![<span\n",
    "data-label=\"fig:one\"></span>](./figs/POSCAR_0_3315_46_Al.png)"
   ]
  },
  {
   "cell_type": "markdown",
   "metadata": {},
   "source": [
    "一般的な第一原理計算では構造最適化のルーチンが用意されている．\n",
    "VASPにおいて用意されているルーチンは\n",
    "\n",
    "| ISIF|force|stress tensor|ions|cell shape|cell volume|\n",
    "|:----|:----|:----|:----|:----|:----|\n",
    "|0|yes|no|yes|no|no|\n",
    "|1|yes|trace only*|yes|no|no|\n",
    "|2|yes|yes|yes|no|no|\n",
    "|3|yes|yes|yes|yes|yes|\n",
    "|4|yes|yes|yes|yes|no|\n",
    "|5|yes|yes|no|yes|no|\n",
    "|6|yes|yes|no|yes|yes|\n",
    "|7|yes|yes|no|no|yes|\n",
    "* Trace only means that only the total pressure, i.e. the line\n",
    "http://cms.mpi.univie.ac.at/vasp/guide/node112.html\n",
    "\n",
    "である．\n",
    "\n",
    "VASPの呼称ではionが内部緩和を，cellが外部緩和を意味する．\n",
    "\n",
    "ISIF=0ではion=yes，cell shape, volume=noとなっており，内部緩和は行うが，\n",
    "cellの形状と体積はfixしたままである．\n",
    "\n",
    "ISIF=7では，内部緩和をおこないセルは形状を保ったまま，体積を変化させる．\n",
    "\n",
    "ところが，セル形状を保ったままでの体積変化は，等方的に緩和させるようである．\n",
    "\n",
    "粒界構造のモデルで用いられる，いびつな立方晶のセル形状を保ったまま\n",
    "それぞれの長さを変えるようなスイッチは用意されていない．\n",
    "したがってこれを行うルーチンは，独自に書く必要がある．\n",
    "\n",
    "\n",
    "\n",
    "モデルとしてCu_3315をつかう．\n",
    "これは系のサイズが小さく，第一原理計算VASPの計算時間が\n",
    "少なく済むからである．\n",
    "\n",
    "セル形状って何？　原子の配置の外形？\n",
    "```\n",
    "> head POSCAR_0_3315_46_Al\n",
    "(Al) Source:.POSCAR_0;Expand:3,3,1;Shaped;Rotate:1/5,22.62[degrees];Mirrorred;Shaped2;Cut:0.81715-0.84984\n",
    "   1.00000000000000\n",
    "  19.8145937137    0.0000000000    0.0000000000\n",
    "   0.0000000000   10.3035887311    0.0000000000\n",
    "   0.0000000000    0.0000000000    4.0414000000\n",
    "46\n",
    "Selective dynamics\n",
    "Direct\n",
    "   0.6000000000    0.0384615385    0.5000000000 T T T\n",
    "   0.5800000000    0.2307692308    0.0000000000 T T T\n",
    "```"
   ]
  },
  {
   "cell_type": "markdown",
   "metadata": {},
   "source": [
    "これはVASPの計算に投入する原子の情報を集めた\n",
    "POSCARと呼ばれるファイルである．\n",
    "\n",
    "3行目から5行目にかかれた3次元ベクトルがcellの外形のa,b,cを\n",
    "示している．aが図ではx軸，bがy軸，cがz軸の大きさをAで示している．\n",
    "\n",
    "さらに次の行にそのセルに含まれる原子の数が表記されている．\n",
    "それ以下には，それぞれの原子のローカルな座標が記されている．\n",
    "これがPOSCARファイルの構造である．\n"
   ]
  },
  {
   "cell_type": "markdown",
   "metadata": {},
   "source": [
    "# vasp計算の結果"
   ]
  },
  {
   "cell_type": "markdown",
   "metadata": {},
   "source": [
    "図はAl_3315のセルサイズ変化によるエネルギー表面を示している．\n",
    "\n",
    "![<span\n",
    "data-label=\"fig:two Al_3315のセルサイズ変化によるエネルギー表面．\"></span>](./figs/Al_3315_surface.png)"
   ]
  },
  {
   "cell_type": "markdown",
   "metadata": {},
   "source": [
    "このエネルギー表面の特徴は次の通りである．\n",
    "1. x=-8..0\n",
    "1. y=-2..2\n",
    "1. x軸方向の変化は大きい．\n",
    "1. y軸方向の変化はねじれている．すなわち\n",
    "   1. x=0ではyの増加につれて上がっていくが，\n",
    "   1. x=-8ではyの増加につれて下がっている\n",
    "1. x=-4の直線上でminimumを取っている．\n",
    "\n",
    "もう少し細かくエネルギー計算をした場合と，もう少し荒くエネルギー計算をした場合で，\n",
    "最小値やその位置が大きく変わるかどうかを検証する必要がある．\n",
    "\n",
    "また，この例では最小値の囲い込みがうまくいっているが，初期には\n",
    "囲い込まれていなかった．したがって，どの程度の余裕をもって\n",
    "計算の初期値とするかを決定する必要がある．\n"
   ]
  },
  {
   "cell_type": "markdown",
   "metadata": {},
   "source": [
    "これは，計算によって得られた値を3次元プロットした結果である．\n",
    "\n",
    "\n",
    "| x | y | E\n",
    "|---:|---:|---:\n",
    "|  -8|  -2|   0.70408\n",
    "|  -8|   0|   0.62402\n",
    "|  -8|   2|   0.58637\n",
    "|  -4|  -2|   0.54846\n",
    "|  -4|   0|   0.52160\n",
    "|  -4|   2|   0.52985\n",
    "|   0|  -2|   0.58105\n",
    "|   0|   0|   0.59046\n",
    "|   0|   2|   0.63185\n",
    "\n",
    "これらの値は，粒界モデルのx軸，y軸を変化させ，セル形状を固定した状態で，内部緩和をおこないエネルギー計算を行っている．\n",
    "これをfittingして，最安定構造を求めるには次のMapleスクリプトで得られる．\n",
    "``` bash\n",
    "x0:=-4;y0:=0;\n",
    "with(stats): data:=[xx,yy,zz]: \n",
    "fit1:=fit[leastsquare[[x,y,z], \n",
    "    z=a1+a2*(x-x0)+a3*(y-y0)+a4*(x-x0)*(y-y0)+\n",
    "      a5*(x-x0)^2+a6*(y-y0)^2, \n",
    "    {a1,a2,a3,a4,a5,a6}]](data);\n",
    "\n",
    "fit1 := z = .5026144708-0.4629870219e-2*x-0.7128049500e-2*y+\n",
    "(0.5266188957e-2*(x+4))*y+0.5395943477e-2*(x+4)^2+0.4563284219e-2*y^2\n",
    "```\n",
    "これで求められた関数fit1をx,yで微分し，連立方程式として解くと\n",
    "``` bash\n",
    "e1:=diff(f1(x,y),x);\n",
    "e2:=diff(f1(x,y),y);\n",
    "s1:=solve({e1,e2},{x,y});\n",
    "       0.03853767760 + 0.005266188957 y + 0.01079188695 x\n",
    "      0.01393670633 + 0.005266188957 x + 0.009126568438 y\n",
    "              {x = -3.933335758, y = 0.7425554356}\n",
    "subs(s1,f1(x,y));\n",
    "                          0.5183331423\n",
    "```\n",
    "として求めることが可能である．\n",
    "\n",
    "この最安定構造をできるだけ少ない手数で求めることが開発目標となる．"
   ]
  },
  {
   "cell_type": "markdown",
   "metadata": {},
   "source": [
    "ところがこれらの結果はVASPによって得られたエネルギー値を示している．\n",
    "ところが，VASPはこの程度の計算であっても，一点の計算に現有の設備でAlで1時間50分程度，Cuの計算では6時間程度が必要となる．\n",
    "これを開発段階で使っていては応答時間が長すぎるため，現実的ではない．\n",
    "そこで，計算時間が劇的に短い経験ポテンシャルであるEAMを使って開発を進める．\n"
   ]
  },
  {
   "cell_type": "markdown",
   "metadata": {},
   "source": [
    "# IMRAD\n",
    "*\n",
    "* abstract(概要，1page)\n",
    "* Intro(背景，目的)\n",
    "* Method(方法)\n",
    "* Results and Discussions(結果と議論)\n",
    "* summary(総括)\n",
    "* 謝辞\n",
    "* references(文献)\n"
   ]
  },
  {
   "cell_type": "code",
   "execution_count": null,
   "metadata": {
    "collapsed": true
   },
   "outputs": [],
   "source": [
    "中居遥　似非vaspを使う理由を一パラグラフ書く"
   ]
  }
 ],
 "metadata": {
  "kernelspec": {
   "display_name": "Python 2",
   "language": "python",
   "name": "python2"
  },
  "language_info": {
   "codemirror_mode": {
    "name": "ipython",
    "version": 2
   },
   "file_extension": ".py",
   "mimetype": "text/x-python",
   "name": "python",
   "nbconvert_exporter": "python",
   "pygments_lexer": "ipython2",
   "version": "2.7.10"
  },
  "latex_envs": {
   "LaTeX_envs_menu_present": true,
   "autocomplete": true,
   "bibliofile": "biblio.bib",
   "cite_by": "apalike",
   "current_citInitial": 1,
   "eqLabelWithNumbers": true,
   "eqNumInitial": 1,
   "hotkeys": {
    "equation": "Ctrl-E",
    "itemize": "Ctrl-I"
   },
   "labels_anchors": false,
   "latex_user_defs": false,
   "report_style_numbering": false,
   "user_envs_cfg": false
  },
  "toc": {
   "colors": {
    "hover_highlight": "#DAA520",
    "navigate_num": "#000000",
    "navigate_text": "#333333",
    "running_highlight": "#FF0000",
    "selected_highlight": "#FFD700",
    "sidebar_border": "#EEEEEE",
    "wrapper_background": "#FFFFFF"
   },
   "moveMenuLeft": true,
   "nav_menu": {
    "height": "12px",
    "width": "252px"
   },
   "navigate_menu": true,
   "number_sections": true,
   "sideBar": true,
   "skip_h1_title": false,
   "threshold": 4,
   "toc_cell": true,
   "toc_position": {},
   "toc_section_display": "block",
   "toc_window_display": true,
   "widenNotebook": false
  }
 },
 "nbformat": 4,
 "nbformat_minor": 2
}
