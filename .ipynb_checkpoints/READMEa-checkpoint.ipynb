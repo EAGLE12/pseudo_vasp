{
 "cells": [
  {
   "cell_type": "markdown",
   "metadata": {
    "toc": "true"
   },
   "source": [
    "# Table of Contents\n",
    " <p><div class=\"lev1 toc-item\"><a href=\"#title:-粒界エネルギーの最安定探索の自動化\" data-toc-modified-id=\"title:-粒界エネルギーの最安定探索の自動化-1\"><span class=\"toc-item-num\">1&nbsp;&nbsp;</span>title: 粒界エネルギーの最安定探索の自動化</a></div><div class=\"lev1 toc-item\"><a href=\"#はじめに\" data-toc-modified-id=\"はじめに-2\"><span class=\"toc-item-num\">2&nbsp;&nbsp;</span>はじめに</a></div><div class=\"lev2 toc-item\"><a href=\"#背景\" data-toc-modified-id=\"背景-21\"><span class=\"toc-item-num\">2.1&nbsp;&nbsp;</span>背景</a></div><div class=\"lev2 toc-item\"><a href=\"#目的\" data-toc-modified-id=\"目的-22\"><span class=\"toc-item-num\">2.2&nbsp;&nbsp;</span>目的</a></div><div class=\"lev1 toc-item\"><a href=\"#構造最適化\" data-toc-modified-id=\"構造最適化-3\"><span class=\"toc-item-num\">3&nbsp;&nbsp;</span>構造最適化</a></div><div class=\"lev1 toc-item\"><a href=\"#IMRAD\" data-toc-modified-id=\"IMRAD-4\"><span class=\"toc-item-num\">4&nbsp;&nbsp;</span>IMRAD</a></div>"
   ]
  },
  {
   "cell_type": "markdown",
   "metadata": {},
   "source": [
    "#  title: 粒界エネルギーの最安定探索の自動化"
   ]
  },
  {
   "cell_type": "markdown",
   "metadata": {},
   "source": [
    "# はじめに"
   ]
  },
  {
   "cell_type": "markdown",
   "metadata": {
    "heading_collapsed": true
   },
   "source": [
    "## 背景"
   ]
  },
  {
   "cell_type": "code",
   "execution_count": null,
   "metadata": {
    "collapsed": true,
    "hidden": true
   },
   "outputs": [],
   "source": [
    "西谷研では最安定であるような粒界エネルギーを求める計算を行っている．\n",
    "計算はPCによって自動で行われるが，その過程においていくつかの作業が手動で行われている，\n",
    "\n",
    "1. 粒界モデル作成\n",
    "   1. 近い原子の削除\n",
    "1. 計算サーバへのファイル移送\n",
    "1. 計算設定ファイルの数値変換\n",
    "1. 構造最適化の手動設定\n",
    "1. 結果の解析\n",
    "\n",
    "これらは使い慣れた研究者に取っては間違った場合もすぐに気づくことができ\n",
    "自動よりも計算時間が短く済んだり，間違いのケアも迅速に出来るという点では良いが，\n",
    "初心者がここを手動でやると途中で今何をしているのか分からなくなってしまう\n",
    "\n",
    "## 目的\n",
    "これらの手順を手動から自動で行ったり，間違い検出もしてくれるようなシステムを構築し，初心者でも簡単に\n",
    "安定な粒界エネルギーを求められるようにすることを本研究の目的とする．"
   ]
  },
  {
   "cell_type": "markdown",
   "metadata": {},
   "source": [
    "# 構造最適化"
   ]
  },
  {
   "cell_type": "markdown",
   "metadata": {},
   "source": [
    "粒界エネルギーの計算では，最安定エネルギーを求める必要がある．\n",
    "一般的な第一原理計算では構造最適化のルーチンが用意されている．\n",
    "VASPにおいて用意されているルーチンは\n",
    "\n",
    "ISIF＝0〜2で、セルを固定した計算ができるが，\n",
    "立方晶に保ったまま体積を変えたい時は，\n",
    "プログラムを書く必要がある．\n",
    "\n",
    "| ISIF|force|stress tensor|ions|cell shape|cell volume|\n",
    "|:----|:----|:----|:----|:----|:----|\n",
    "|0|yes|no|yes|no|no|\n",
    "|1|yes|trace only*|yes|no|no|\n",
    "|2|yes|yes|yes|no|no|\n",
    "|3|yes|yes|yes|yes|yes|\n",
    "|4|yes|yes|yes|yes|no|\n",
    "|5|yes|yes|no|yes|no|\n",
    "|6|yes|yes|no|yes|yes|\n",
    "|7|yes|yes|no|no|yes|\n",
    "* Trace only means that only the total pressure, i.e. the line\n",
    "http://cms.mpi.univie.ac.at/vasp/guide/node112.html\n",
    "\n",
    "\n",
    "モデルとしてCu_3315をつかう．\n",
    "理由としては系のサイズが小さく，第一原理計算VASPの計算時間が\n",
    "少なく済むからである．"
   ]
  },
  {
   "cell_type": "markdown",
   "metadata": {},
   "source": [
    "# IMRAD\n",
    "*\n",
    "* abstract(概要，1page)\n",
    "* Intro(背景，目的)\n",
    "* Method(方法)\n",
    "* Results and Discussions(結果と議論)\n",
    "* summary(総括)\n",
    "* 謝辞\n",
    "* references(文献)\n"
   ]
  },
  {
   "cell_type": "code",
   "execution_count": null,
   "metadata": {
    "collapsed": true
   },
   "outputs": [],
   "source": []
  }
 ],
 "metadata": {
  "kernelspec": {
   "display_name": "Python 2",
   "language": "python",
   "name": "python2"
  },
  "language_info": {
   "codemirror_mode": {
    "name": "ipython",
    "version": 2
   },
   "file_extension": ".py",
   "mimetype": "text/x-python",
   "name": "python",
   "nbconvert_exporter": "python",
   "pygments_lexer": "ipython2",
   "version": "2.7.10"
  },
  "latex_envs": {
   "LaTeX_envs_menu_present": true,
   "autocomplete": true,
   "bibliofile": "biblio.bib",
   "cite_by": "apalike",
   "current_citInitial": 1,
   "eqLabelWithNumbers": true,
   "eqNumInitial": 1,
   "hotkeys": {
    "equation": "Ctrl-E",
    "itemize": "Ctrl-I"
   },
   "labels_anchors": false,
   "latex_user_defs": false,
   "report_style_numbering": false,
   "user_envs_cfg": false
  },
  "toc": {
   "colors": {
    "hover_highlight": "#DAA520",
    "navigate_num": "#000000",
    "navigate_text": "#333333",
    "running_highlight": "#FF0000",
    "selected_highlight": "#FFD700",
    "sidebar_border": "#EEEEEE",
    "wrapper_background": "#FFFFFF"
   },
   "moveMenuLeft": true,
   "nav_menu": {
    "height": "12px",
    "width": "252px"
   },
   "navigate_menu": true,
   "number_sections": true,
   "sideBar": true,
   "threshold": 4,
   "toc_cell": true,
   "toc_section_display": "block",
   "toc_window_display": true,
   "widenNotebook": false
  }
 },
 "nbformat": 4,
 "nbformat_minor": 2
}
